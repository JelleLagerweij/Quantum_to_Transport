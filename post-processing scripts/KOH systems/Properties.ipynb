{
 "cells": [
  {
   "cell_type": "code",
   "execution_count": 1,
   "metadata": {},
   "outputs": [],
   "source": [
    "import Prot_Post as Post\n",
    "import matplotlib.pyplot as plt"
   ]
  },
  {
   "cell_type": "code",
   "execution_count": 2,
   "metadata": {},
   "outputs": [],
   "source": [
    "folder1 = r\"/Users/vlagerweij/Documents/TU jaar 6/Project KOH(aq)/Repros/Quantum_to_Transport/post-processing scripts/KOH systems/test_output/combined_simulation/\"\n",
    "folder2 = r\"/Users/vlagerweij/Documents/TU jaar 6/Project KOH(aq)/Repros/Quantum_to_Transport/post-processing scripts/KOH systems/test_output/1ns/\"\n",
    "# folder3 = r\"/Users/vlagerweij/Documents/TU jaar 6/Project KOH(aq)/Repros/Quantum_to_Transport/post-processing scripts/KOH systems/test_output/longest_up_till_now/\"\n",
    "\n",
    "post1 = Post.Prot_Post(folder1)\n",
    "post2 = Post.Prot_Post(folder2)\n",
    "# post3 = Post.Prot_Post(folder3)"
   ]
  },
  {
   "cell_type": "code",
   "execution_count": 3,
   "metadata": {},
   "outputs": [
    {
     "ename": "NameError",
     "evalue": "name 'post3' is not defined",
     "output_type": "error",
     "traceback": [
      "\u001b[1;31m---------------------------------------------------------------------------\u001b[0m",
      "\u001b[1;31mNameError\u001b[0m                                 Traceback (most recent call last)",
      "Cell \u001b[1;32mIn[3], line 4\u001b[0m\n\u001b[0;32m      2\u001b[0m plt\u001b[38;5;241m.\u001b[39mloglog(post1\u001b[38;5;241m.\u001b[39mt, post1\u001b[38;5;241m.\u001b[39mmsd_OH, label\u001b[38;5;241m=\u001b[39m\u001b[38;5;124m\"\u001b[39m\u001b[38;5;124mMSD OH, Combined AIMD\u001b[39m\u001b[38;5;124m\"\u001b[39m)\n\u001b[0;32m      3\u001b[0m plt\u001b[38;5;241m.\u001b[39mloglog(post2\u001b[38;5;241m.\u001b[39mt, post2\u001b[38;5;241m.\u001b[39mmsd_OH, label\u001b[38;5;241m=\u001b[39m\u001b[38;5;124m\"\u001b[39m\u001b[38;5;124mMSD OH, 1ns MLMD\u001b[39m\u001b[38;5;124m\"\u001b[39m)\n\u001b[1;32m----> 4\u001b[0m plt\u001b[38;5;241m.\u001b[39mloglog(\u001b[43mpost3\u001b[49m\u001b[38;5;241m.\u001b[39mt, post3\u001b[38;5;241m.\u001b[39mmsd_OH, label\u001b[38;5;241m=\u001b[39m\u001b[38;5;124m\"\u001b[39m\u001b[38;5;124mMSD OH, 1ns MLMD\u001b[39m\u001b[38;5;124m\"\u001b[39m)\n\u001b[0;32m      5\u001b[0m plt\u001b[38;5;241m.\u001b[39mlegend()\n\u001b[0;32m      6\u001b[0m plt\u001b[38;5;241m.\u001b[39mxlabel(\u001b[38;5;124m'\u001b[39m\u001b[38;5;124mtime/[fs]\u001b[39m\u001b[38;5;124m'\u001b[39m)\n",
      "\u001b[1;31mNameError\u001b[0m: name 'post3' is not defined"
     ]
    },
    {
     "data": {
      "image/png": "[encoded data removed]",
      "text/plain": [
       "<Figure size 640x480 with 1 Axes>"
      ]
     },
     "metadata": {},
     "output_type": "display_data"
    }
   ],
   "source": [
    "plt.figure()\n",
    "plt.loglog(post1.t, post1.msd_OH, label=\"MSD OH, Combined AIMD\")\n",
    "plt.loglog(post2.t, post2.msd_OH, label=\"MSD OH, 1ns MLMD\")\n",
    "# plt.loglog(post3.t, post3.msd_OH, label=\"MSD OH, 1ns MLMD\")\n",
    "plt.legend()\n",
    "plt.xlabel('time/[fs]')\n",
    "plt.ylabel('MSD/[Å^2]')\n",
    "plt.grid()\n",
    "\n",
    "plt.figure()\n",
    "plt.loglog(post1.t, post1.msd_K, label=\"MSD K, Combined AIMD\")\n",
    "plt.loglog(post2.t, post2.msd_K, label=\"MSD K, 1ns MLMD\")\n",
    "# plt.loglog(post3.t, post3.msd_K, label=\"MSD K, 1ns MLMD\")\n",
    "plt.legend()\n",
    "plt.xlabel('time/[fs]')\n",
    "plt.ylabel('MSD/[Å^2]')\n",
    "plt.grid()\n",
    "\n",
    "plt.figure()\n",
    "plt.loglog(post1.t, post1.msd_H2O, label=\"MSD H2O, Combined AIMD\")\n",
    "plt.loglog(post2.t, post2.msd_H2O, label=\"MSD H2O, 1ns MLMD\")\n",
    "# plt.loglog(post3.t, post3.msd_H2O, label=\"MSD H2O, 1ns MLMD\")\n",
    "plt.legend()\n",
    "plt.xlabel('time/[fs]')\n",
    "plt.ylabel('MSD/[Å^2]')\n",
    "plt.grid()"
   ]
  },
  {
   "cell_type": "code",
   "execution_count": null,
   "metadata": {},
   "outputs": [],
   "source": [
    "post2.diffusion(\"OH\", plotting=True)"
   ]
  },
  {
   "cell_type": "code",
   "execution_count": null,
   "metadata": {},
   "outputs": [],
   "source": [
    "plt.figure()\n",
    "plt.plot(post1.rdf_r, post1.rdf_H2OH2O, label=\"H2O-H2O\")\n",
    "plt.plot(post1.rdf_r, post1.rdf_OHH2O, label=\"OH-H2O\")\n",
    "plt.plot(post1.rdf_r, post1.rdf_KH2O, label=\"K-H2O\")\n",
    "plt.plot(post1.rdf_r, post1.rdf_OHOH, label=\"OH-OH\")\n",
    "plt.plot(post1.rdf_r, post1.rdf_KK, label=\"K-K\")\n",
    "plt.legend()\n",
    "plt.xlabel('r/[Å]')\n",
    "plt.ylabel('g(r)')\n",
    "plt.grid()\n",
    "\n",
    "plt.figure()\n",
    "plt.plot(post2.rdf_r, post2.rdf_H2OH2O, label=\"H2O-H2O\")\n",
    "plt.plot(post2.rdf_r, post2.rdf_OHH2O, label=\"OH-H2O\")\n",
    "plt.plot(post2.rdf_r, post2.rdf_KH2O, label=\"K-H2O\")\n",
    "plt.plot(post2.rdf_r, post2.rdf_OHOH, label=\"OH-OH\")\n",
    "plt.plot(post2.rdf_r, post2.rdf_KK, label=\"K-K\")\n",
    "plt.legend()\n",
    "plt.xlabel('r/[Å]')\n",
    "plt.ylabel('g(r)')\n",
    "plt.grid()"
   ]
  },
  {
   "cell_type": "code",
   "execution_count": null,
   "metadata": {},
   "outputs": [],
   "source": [
    "import numpy as np\n",
    "import h5py\n",
    "\n",
    "df = h5py.File('/Users/vlagerweij/Documents/TU jaar 6/Project KOH(aq)/Repros/Quantum_to_Transport/post-processing scripts/KOH systems/test_output/vaspout.h5')\n",
    "H_i = np.arange(0, 12+2*110)\n",
    "O_i = np.arange(12+2*110, 12+2*110+110 + 12)\n",
    "K_i = np.arange(12+2*110+ + 110+ 12, 12+2*110+ 110 + 12 + 12)\n",
    "\n",
    "L = df['results/positions/lattice_vectors'][()][0, 0]\n",
    "pos = df['intermediate/ion_dynamics/position_ions'][()][-1, :, :]\n",
    "pos_H = pos[H_i, :]*L\n",
    "pos_O = pos[O_i, :]*L\n",
    "pos_K = pos[K_i, :]*L\n",
    "\n",
    "force = df['intermediate/ion_dynamics/forces'][()][-1, :, :]\n",
    "F_H = force[H_i, :]\n",
    "F_O = force[O_i, :]\n",
    "F_K = force[K_i, :]\n",
    "\n",
    "\n",
    "idx_KK = np.triu_indices(12, k=1)\n",
    "idx_KO = np.mgrid[0:12, 0:110+12].reshape(2, 12*(110+12))\n",
    "idx_HO = np.mgrid[0:(110*2+12), 0:(110+12)].reshape(2, (110*2+12)*(110+12))\n",
    "idx_OO = np.triu_indices((110+12), k=1)\n",
    "\n",
    "n=0 # set zeroth timestep for testing\n"
   ]
  },
  {
   "cell_type": "code",
   "execution_count": null,
   "metadata": {},
   "outputs": [],
   "source": [
    "def recognize_molecules_all(d_HO):\n",
    "    \"\"\"\n",
    "    Find the index of the Oxygen beloging to the OH- or H2O.\n",
    "\n",
    "    This function searches for the index of the Oxygen belonging to the OH-\n",
    "    particles. It automatically creates a neighbor list as well as an array\n",
    "    which holds the unwraped location of the real OH particle.\n",
    "\n",
    "    Args:\n",
    "        n (integer): timestep of the assesment of the hydoxide recognition\n",
    "    \"\"\"    \n",
    "    counter_H_per_O = np.bincount(np.argmin(d_HO.reshape((2*110+12, 110+12)), axis=1))  # Get number of H per oxygen in molecule\n",
    "    \n",
    "    # Identify and count all real OH-, H2O and H3O+\n",
    "    OH_i = np.where(counter_H_per_O == 1)[0]\n",
    "    H2O_i = np.where(counter_H_per_O == 2)[0]     \n",
    "    return OH_i, H2O_i"
   ]
  },
  {
   "cell_type": "code",
   "execution_count": null,
   "metadata": {},
   "outputs": [],
   "source": [
    "r_HO = r_HO = (pos_O[idx_HO[1], :] - pos_H[idx_HO[0], :] + L/2) % L - L/2\n",
    "d_HO = np.sqrt(np.sum(r_HO**2, axis=1))\n",
    "OH_i, H2O_i = recognize_molecules_all(d_HO)"
   ]
  },
  {
   "cell_type": "code",
   "execution_count": null,
   "metadata": {},
   "outputs": [],
   "source": [
    "r_OO = (pos_O[idx_OO[1], :] - pos_O[idx_OO[0], :] + L/2) % L - L/2\n",
    "d_OO = np.sqrt(np.sum(r_OO**2, axis=1))\n",
    "\n",
    "d_H2OH2O = d_OO[((np.isin(idx_OO[0], H2O_i)) & ((np.isin(idx_OO[1], H2O_i))))]\n",
    "\n",
    "r_KK = (pos_K[idx_KK[1], :] - pos_K[idx_KK[0], :] + L/2) % L - L/2\n",
    "d_KK = np.sqrt(np.sum(r_KK**2, axis=1))"
   ]
  },
  {
   "cell_type": "code",
   "execution_count": null,
   "metadata": {},
   "outputs": [],
   "source": [
    "nb = 256\n",
    "r = np.linspace(0, L/2, nb)\n",
    "rdf_KK = np.zeros(nb)"
   ]
  },
  {
   "cell_type": "code",
   "execution_count": null,
   "metadata": {},
   "outputs": [],
   "source": [
    "rdf_items = np.broadcast_to(np.einsum('ij,ij->i', F_K[idx_KK[0], :], r_KK)/(np.power(d_KK, 3)), (nb, idx_KK[0].size))"
   ]
  },
  {
   "cell_type": "code",
   "execution_count": null,
   "metadata": {},
   "outputs": [],
   "source": [
    "mask = np.broadcast_to(d_KK, (nb, idx_KK[0].size)) > np.tile(r[:, np.newaxis], (1, idx_KK[0].size))"
   ]
  },
  {
   "cell_type": "code",
   "execution_count": null,
   "metadata": {},
   "outputs": [],
   "source": [
    "rdf = rdf_items[mask]"
   ]
  },
  {
   "cell_type": "code",
   "execution_count": null,
   "metadata": {},
   "outputs": [],
   "source": [
    "a = np.logspace(np.log10(1000), 6, 1000, dtype=int)\n",
    "a = post1.t[a[:np.where(a > post1.t.shape)[0][0]]]\n",
    "plt.plot(a)\n",
    "plt.yscale('log')"
   ]
  },
  {
   "cell_type": "code",
   "execution_count": null,
   "metadata": {},
   "outputs": [],
   "source": [
    "post1.t.shape\n",
    "np.where(a > post1.t.shape)[0][0]"
   ]
  },
  {
   "cell_type": "code",
   "execution_count": null,
   "metadata": {},
   "outputs": [],
   "source": [
    "np.log10(post1.t.max())"
   ]
  },
  {
   "cell_type": "code",
   "execution_count": null,
   "metadata": {},
   "outputs": [],
   "source": [
    "t.max()"
   ]
  },
  {
   "cell_type": "code",
   "execution_count": null,
   "metadata": {},
   "outputs": [],
   "source": [
    "np.log10(1000)"
   ]
  },
  {
   "cell_type": "code",
   "execution_count": null,
   "metadata": {},
   "outputs": [],
   "source": []
  }
 ],
 "metadata": {
  "kernelspec": {
   "display_name": "KOH_project",
   "language": "python",
   "name": "python3"
  },
  "language_info": {
   "codemirror_mode": {
    "name": "ipython",
    "version": 3
   },
   "file_extension": ".py",
   "mimetype": "text/x-python",
   "name": "python",
   "nbconvert_exporter": "python",
   "pygments_lexer": "ipython3",
   "version": "3.12.2"
  }
 },
 "nbformat": 4,
 "nbformat_minor": 2
}
