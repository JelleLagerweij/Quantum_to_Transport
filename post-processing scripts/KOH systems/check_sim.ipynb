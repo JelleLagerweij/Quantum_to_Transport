{
 "cells": [
  {
   "cell_type": "code",
   "execution_count": 1,
   "metadata": {},
   "outputs": [
    {
     "data": {
      "application/vnd.jupyter.widget-view+json": {
       "model_id": "db4ca69ea9b845e1a55cb4bf6624eabd",
       "version_major": 2,
       "version_minor": 0
      },
      "text/plain": []
     },
     "metadata": {},
     "output_type": "display_data"
    }
   ],
   "source": [
    "import Class_diff_hopping_hdf5 as hop\n",
    "import pandas as pd\n",
    "import numpy as np\n",
    "from plotly.subplots import make_subplots\n",
    "import plotly.graph_objects as go"
   ]
  },
  {
   "cell_type": "code",
   "execution_count": 2,
   "metadata": {},
   "outputs": [
    {
     "name": "stdout",
     "output_type": "stream",
     "text": [
      "loading file with path =  C:/Users/vlagerweij/Documents/TU jaar 6/Project KOH(aq)/Repros/RPBE_Production/AIMD/10ps/i_1//traj.npz\n"
     ]
    }
   ],
   "source": [
    "# path = r\"C:/Users/vlagerweij/Documents/TU jaar 6/Project KOH(aq)/Repros/RPBE_Production/MLMD/100ps_Exp_Density/i_1/\"\n",
    "path = r\"C:/Users/vlagerweij/Documents/TU jaar 6/Project KOH(aq)/Repros/RPBE_Production/AIMD/10ps/i_1/\"\n",
    "\n",
    "Traj = hop.Prot_Hop(path, dt=1)\n",
    "index, loc_OH, loc_K, loc_H2O = Traj.loading()\n",
    "n_OH = Traj.N_OH"
   ]
  },
  {
   "cell_type": "code",
   "execution_count": 3,
   "metadata": {},
   "outputs": [],
   "source": [
    "path = r\"C:/Users/vlagerweij\\Documents/TU jaar 6/Project KOH(aq)/Progress_meeting_12/Sana new Results/margin_31/\"\n",
    "n_steps = 10000  # ten-thousend timesteps\n",
    "data_OH = pd.read_csv(path+'trajectory_unwrapped_OH_stats.txt', delim_whitespace=True, header=None).to_numpy()\n",
    "data_HB = pd.read_csv(path+'trajectory_unwrapped_HB_type_stats.txt', delim_whitespace=True, header=None).to_numpy()\n",
    "OH_i = np.ones(n_steps)*Traj.N_H\n",
    "n_HB = np.zeros(n_steps)\n",
    "n_OHs = np.zeros(n_steps)"
   ]
  },
  {
   "cell_type": "code",
   "execution_count": 5,
   "metadata": {},
   "outputs": [
    {
     "name": "stderr",
     "output_type": "stream",
     "text": [
      "C:\\Users\\vlagerweij\\AppData\\Local\\Temp\\ipykernel_4400\\2692539098.py:10: DeprecationWarning: Conversion of an array with ndim > 0 to a scalar is deprecated, and will error in future. Ensure you extract a single element from your array before performing this operation. (Deprecated NumPy 1.25.)\n",
      "  OH_i[i] = data_OH[lines_i, 2]\n"
     ]
    },
    {
     "name": "stdout",
     "output_type": "stream",
     "text": [
      "[166904 166922]\n",
      "[[134 152]]\n"
     ]
    },
    {
     "ename": "ValueError",
     "evalue": "setting an array element with a sequence.",
     "output_type": "error",
     "traceback": [
      "\u001b[1;31mTypeError\u001b[0m\u001b[1;31m:\u001b[0m only length-1 arrays can be converted to Python scalars\n",
      "\nThe above exception was the direct cause of the following exception:\n",
      "\u001b[1;31mValueError\u001b[0m\u001b[1;31m:\u001b[0m setting an array element with a sequence.\n"
     ]
    }
   ],
   "source": [
    "limit1 = 4000\n",
    "limit2 = data_OH.shape[0]-1\n",
    "limit3 = data_HB.shape[0]-1\n",
    "# Loop over all timesteps\n",
    "for i in range(limit1):\n",
    "    lines_i = np.where((data_OH[:limit2, 0] == i) & (data_OH[:limit2, 3] == 1))\n",
    "    if len(lines_i[0]) ==1 :\n",
    "        OH_i[i] = data_OH[lines_i, 2]\n",
    "    else:\n",
    "        OH_i[i] = OH_i[i-1]\n",
    "    \n",
    "    lines_i = np.where((data_HB[:limit3, 0] == i) & (data_HB[:limit3, 3] == 'wp'))\n",
    "    if i == 2980:\n",
    "        print(lines_i[0] + 1)\n",
    "        print(data_HB[lines_i, 0])\n",
    "    n_HB[i] = len(data_HB[lines_i, 0])"
   ]
  },
  {
   "cell_type": "code",
   "execution_count": null,
   "metadata": {},
   "outputs": [],
   "source": [
    "fig = make_subplots(rows=2, cols=1, shared_xaxes=True, vertical_spacing=0.02)\n",
    "\n",
    "fig.add_trace(go.Scatter(x=Traj.t, y=index, name=\"My method\"), row=1, col=1)\n",
    "fig.add_trace(go.Scatter(x=Traj.t, y=OH_i, name=\"Sana\"), row=1, col=1)\n",
    "\n",
    "fig.add_trace(go.Scatter(x=Traj.t, y=n_HB, name=\"Sana\"), row=2, col=1)\n",
    "\n",
    "fig.update_yaxes(title_text=\"Index of oxygen atom\", row=1, col=1)\n",
    "fig.update_yaxes(title_text=\"Number of Hydrogen Bonds\", row=2, col=1)\n",
    "fig.update_xaxes(title_text=\"timestep\", row=2, col=1)\n",
    "fig.update_layout(height=700, width=1100, title_text=\"Differences between methods CovrH = 0.31\")\n",
    "fig.show()"
   ]
  },
  {
   "cell_type": "code",
   "execution_count": null,
   "metadata": {},
   "outputs": [],
   "source": [
    "import numpy as np\n",
    "\n",
    "L = 2\n",
    "n = 1\n",
    "OH_i_new = np.array([1, 2, 5, 0])\n",
    "pos_O = np.array([[[0, 0, 0], [1, 1, 1], [1, 1.5, 0], [0.5, 0.5, 0], [0.5, 1, 1], [1, 1, 0]], [[0.1, 0.1, 0.1], [0.9, 0.9, 0.9], [0.9, 0, 0], [0.6, 0.6, 0], [0.4, 1, 1], [1.1, 1.1, 0]]])\n",
    "OH_i = np.array([[1, 2, 4], [0, 0, 0]])\n",
    "\n",
    "diff_new = np.setdiff1d(OH_i_new, OH_i[n-1, :], assume_unique=True)\n",
    "diff_old = np.setdiff1d(OH_i[n-1, :], OH_i_new, assume_unique=True)"
   ]
  },
  {
   "cell_type": "code",
   "execution_count": null,
   "metadata": {},
   "outputs": [],
   "source": [
    "print(diff_new)\n",
    "print(diff_old)"
   ]
  },
  {
   "cell_type": "code",
   "execution_count": null,
   "metadata": {},
   "outputs": [],
   "source": [
    "OH_i[n, :] = OH_i[n-1, :]\n",
    "for i in range(len(diff_old)):\n",
    "    ## HYDROXIDE PART\n",
    "    # Check every closest old version to every unmatching new one and replace the correct OH_i index\n",
    "    r_OO = (pos_O[n, diff_new, :] - pos_O[n-1, diff_old[i], :] + L/2) % L - L/2         \n",
    "    d2 = np.sum(r_OO**2, axis=1)\n",
    "    i_n = np.argmin(d2)\n",
    "    print(d2, 'and', i_n)\n",
    "    if d2[i_n] > 9:  # excape when jump too large\n",
    "        print(\"Something went wrong, reaction jump too far, d = \", np.sqrt(d2[i_n]), 'Angstrom',\n",
    "                            \"CPU rank=\")\n",
    "\n",
    "    idx_OH_i = np.where(OH_i[n-1, :] == diff_old[i]) # get index in OH_i storage list\n",
    "    OH_i[n, idx_OH_i] = diff_new[i_n]  # update OH_i storage list"
   ]
  },
  {
   "cell_type": "code",
   "execution_count": null,
   "metadata": {},
   "outputs": [],
   "source": [
    "OH_i "
   ]
  },
  {
   "cell_type": "code",
   "execution_count": null,
   "metadata": {},
   "outputs": [],
   "source": []
  }
 ],
 "metadata": {
  "kernelspec": {
   "display_name": "KOH_project",
   "language": "python",
   "name": "python3"
  },
  "language_info": {
   "codemirror_mode": {
    "name": "ipython",
    "version": 3
   },
   "file_extension": ".py",
   "mimetype": "text/x-python",
   "name": "python",
   "nbconvert_exporter": "python",
   "pygments_lexer": "ipython3",
   "version": "3.11.5"
  }
 },
 "nbformat": 4,
 "nbformat_minor": 2
}
