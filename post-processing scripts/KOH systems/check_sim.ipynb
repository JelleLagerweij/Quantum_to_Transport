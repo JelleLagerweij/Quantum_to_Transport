{
 "cells": [
  {
   "cell_type": "code",
   "execution_count": null,
   "metadata": {},
   "outputs": [],
   "source": [
    "import Class_diff_hopping_hdf5 as hop\n",
    "import pandas as pd\n",
    "import numpy as np\n",
    "from plotly.subplots import make_subplots\n",
    "import plotly.graph_objects as go"
   ]
  },
  {
   "cell_type": "code",
   "execution_count": null,
   "metadata": {},
   "outputs": [],
   "source": [
    "# path = r\"C:/Users/vlagerweij/Documents/TU jaar 6/Project KOH(aq)/Repros/RPBE_Production/MLMD/100ps_Exp_Density/i_1/\"\n",
    "path = r\"C:/Users/vlagerweij/Documents/TU jaar 6/Project KOH(aq)/Repros/RPBE_Production/AIMD/10ps/i_1/\"\n",
    "\n",
    "Traj = hop.Prot_Hop(path, dt=1)\n",
    "index, loc_OH, loc_K, loc_H2O = Traj.loading()\n",
    "n_OH = Traj.N_OH"
   ]
  },
  {
   "cell_type": "code",
   "execution_count": null,
   "metadata": {},
   "outputs": [],
   "source": [
    "path = r\"C:/Users/vlagerweij\\Documents/TU jaar 6/Project KOH(aq)/Progress_meeting_12/Sana new Results/margin_35/\"\n",
    "n_steps = 10000  # ten-thousend timesteps\n",
    "data_OH = pd.read_csv(path+'trajectory_unwrapped_OH_stats.txt', delim_whitespace=True, header=None).to_numpy()\n",
    "data_HB = pd.read_csv(path+'trajectory_unwrapped_HB_type_stats.txt', delim_whitespace=True, header=None).to_numpy()\n",
    "OH_i = np.ones(n_steps)*Traj.N_H\n",
    "n_HB = np.zeros(n_steps)\n",
    "n_OHs = np.zeros(n_steps)"
   ]
  },
  {
   "cell_type": "code",
   "execution_count": null,
   "metadata": {},
   "outputs": [],
   "source": [
    "limit1 = 8000\n",
    "limit2 = data_OH.shape[0]-1\n",
    "limit3 = data_HB.shape[0]-1\n",
    "# Loop over all timesteps\n",
    "for i in range(limit1):\n",
    "    lines_i = np.where((data_OH[:limit2, 0] == i) & (data_OH[:limit2, 3] == 1))\n",
    "    n_OHs[i] = len(lines_i[0])\n",
    "    if len(lines_i[0]) ==1 :\n",
    "        OH_i[i] = data_OH[lines_i, 2]\n",
    "    else:\n",
    "        OH_i[i] = OH_i[i-1]\n",
    "    lines_i = np.where((data_HB[:limit3, 0] == i) & (data_HB[:limit3, 3] == 'wp'))\n",
    "    n_HB[i] = len(data_HB[lines_i, 0])"
   ]
  },
  {
   "cell_type": "code",
   "execution_count": null,
   "metadata": {},
   "outputs": [],
   "source": [
    "fig = make_subplots(rows=2, cols=1, shared_xaxes=True, vertical_spacing=0.02)\n",
    "\n",
    "fig.add_trace(go.Scatter(x=Traj.t, y=index, name=\"My method\"), row=1, col=1)\n",
    "fig.add_trace(go.Scatter(x=Traj.t, y=OH_i, name=\"Sana\"), row=1, col=1)\n",
    "\n",
    "fig.add_trace(go.Scatter(x=Traj.t, y=n_OH, name=\"My method\"), row=2, col=1)\n",
    "fig.add_trace(go.Scatter(x=Traj.t, y=n_OHs, name=\"Sana\"), row=2, col=1)\n",
    "\n",
    "fig.update_yaxes(title_text=\"Index of oxygen atom\", row=1, col=1)\n",
    "fig.update_yaxes(title_text=\"Number of Hydroxydes recognized\", row=2, col=1)\n",
    "fig.update_xaxes(title_text=\"timestep\", row=2, col=1)\n",
    "fig.update_layout(height=700, width=1100, title_text=\"Differences between methods CovrH = 0.31\")\n",
    "fig.show()"
   ]
  },
  {
   "cell_type": "code",
   "execution_count": null,
   "metadata": {},
   "outputs": [],
   "source": [
    "from mpi_python import ProtHop"
   ]
  },
  {
   "cell_type": "code",
   "execution_count": null,
   "metadata": {},
   "outputs": [],
   "source": [
    "pwd = r\"/scratch/vlagerweij/simulations/RPBE_Production/6m/AIMD\"\n",
    "s = r\"/i_\"\n",
    "r = r\"/part_\"\n",
    "\n",
    "for i in range(1, 6):\n",
    "    for j in range(1, 8):\n",
    "        try:\n",
    "            Traj = ProtHop(pwd + s + str(i) + r + str(j), dt=0.5)\n",
    "        except:\n",
    "            print(\"Problem with file:\", s + str(i) + r + str(j))"
   ]
  },
  {
   "cell_type": "code",
   "execution_count": 1,
   "metadata": {},
   "outputs": [
    {
     "data": {
      "application/vnd.jupyter.widget-view+json": {
       "model_id": "39012f76bc2a4dd9897ae5a33fbd7910",
       "version_major": 2,
       "version_minor": 0
      },
      "text/plain": []
     },
     "metadata": {},
     "output_type": "display_data"
    }
   ],
   "source": [
    "from py4vasp import Calculation"
   ]
  },
  {
   "cell_type": "code",
   "execution_count": 2,
   "metadata": {},
   "outputs": [],
   "source": [
    "file = \"/Users/vlagerweij/Documents/TU jaar 6/Project KOH(aq)/Repros/Quantum_to_Transport/post-processing scripts/KOH systems/test_output/vaspout.h5\"\n",
    "df = Calculation.from_file(file)"
   ]
  },
  {
   "cell_type": "code",
   "execution_count": 5,
   "metadata": {},
   "outputs": [],
   "source": [
    "force = df.force[:].to_dict()"
   ]
  },
  {
   "cell_type": "code",
   "execution_count": 8,
   "metadata": {},
   "outputs": [
    {
     "data": {
      "application/vnd.jupyter.widget-view+json": {
       "model_id": "968d32353c3547d3a6d4f9be36d25b79",
       "version_major": 2,
       "version_minor": 0
      },
      "text/plain": [
       "NGLWidget()"
      ]
     },
     "metadata": {},
     "output_type": "display_data"
    }
   ],
   "source": [
    "df.force.plot()"
   ]
  },
  {
   "cell_type": "code",
   "execution_count": null,
   "metadata": {},
   "outputs": [],
   "source": []
  }
 ],
 "metadata": {
  "kernelspec": {
   "display_name": "KOH_project",
   "language": "python",
   "name": "python3"
  },
  "language_info": {
   "codemirror_mode": {
    "name": "ipython",
    "version": 3
   },
   "file_extension": ".py",
   "mimetype": "text/x-python",
   "name": "python",
   "nbconvert_exporter": "python",
   "pygments_lexer": "ipython3",
   "version": "3.11.5"
  }
 },
 "nbformat": 4,
 "nbformat_minor": 2
}
