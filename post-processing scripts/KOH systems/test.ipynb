{
 "cells": [
  {
   "cell_type": "code",
   "execution_count": 1,
   "metadata": {},
   "outputs": [],
   "source": [
    "import numpy as np\n",
    "from typing import Tuple\n",
    "import scipy.constants as np\n",
    "import h5py"
   ]
  },
  {
   "cell_type": "markdown",
   "metadata": {},
   "source": [
    "Be aware of some lazy coding. DO not copy this stupidly into the main program"
   ]
  },
  {
   "cell_type": "code",
   "execution_count": null,
   "metadata": {},
   "outputs": [],
   "source": [
    "def load_data(filename:str) -> Tuple[np.ndarray, np.ndarray, float, np.ndarray, np.ndarray]:\n",
    "    \"\"\"Loads the datafile indicated and returns basic properties\n",
    "\n",
    "    Args:\n",
    "        filename (str): path to the .hdf5 file\n",
    "\n",
    "    Returns:\n",
    "        Tuple:\n",
    "            pos (np.ndarray):\n",
    "            force (np.ndarray):\n",
    "            L (float):\n",
    "            N (np.ndarray):\n",
    "            t (np.ndarray):\n",
    "    \"\"\"\n",
    "    df = h5py.File(filename)\n",
    "    skips =  df['/input/incar/ML_OUTBLOCK'][()]\n",
    "    L = df['results/positions/lattice_vectors'][()][0, 0]\n",
    "    pos = df['intermediate/ion_dynamics/position_ions'][()]*L\n",
    "    force = df['intermediate/ion_dynamics/forces'][()]\n",
    "    N = df['results/positions/number_ion_types'][()]\n",
    "    dt = df['/input/incar/POTIM'][()]*skips\n",
    "    t =np.arange(pos.shape[0])*dt\n",
    "    return pos, force, L, N, t\n",
    "\n",
    "def interparticle_dis(i:int, pos:np.ndarray, N:np.ndarray):\n",
    "    # dumly load some properties\n",
    "    N_H = N[0]\n",
    "    N_O = N[1]\n",
    "    N_K = N[2]\n",
    "    N_OH = N_K  # intended number of OH- from input file\n",
    "    N_H2O = N_O - N_OH\n",
    "    H_i = np.arange(N_H)\n",
    "    O_i  = np.arange(N_H, N_H + N_O)\n",
    "    K_i = np.arange(N_H + N_O, N_H + N_O + N_K)\n",
    "\n",
    "    # prep interparticle arrays\n",
    "    pos_H = pos[:, H_i, :]\n",
    "    pos_O = pos[:, O_i, :]\n",
    "    pos_K = pos[:, K_i, :]\n",
    "    "
   ]
  }
 ],
 "metadata": {
  "kernelspec": {
   "display_name": "Python 3",
   "language": "python",
   "name": "python3"
  },
  "language_info": {
   "codemirror_mode": {
    "name": "ipython",
    "version": 3
   },
   "file_extension": ".py",
   "mimetype": "text/x-python",
   "name": "python",
   "nbconvert_exporter": "python",
   "pygments_lexer": "ipython3",
   "version": "3.12.2"
  }
 },
 "nbformat": 4,
 "nbformat_minor": 2
}
